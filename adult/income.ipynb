{
 "cells": [
  {
   "cell_type": "code",
   "execution_count": 147,
   "metadata": {},
   "outputs": [],
   "source": [
    "import pandas as pd\n",
    "import numpy as np\n"
   ]
  },
  {
   "cell_type": "code",
   "execution_count": 148,
   "metadata": {},
   "outputs": [],
   "source": [
    "df=pd.read_csv(\"adult.csv\",encoding='latin-1')\n",
    "df[df == '?'] = np.nan\n",
    "for col in ['workclass', 'occupation', 'native.country']:\n",
    "    df[col].fillna(df[col].mode()[0], inplace=True)\n",
    "X = df.drop(['income'], axis=1)\n",
    "y = df['income']"
   ]
  },
  {
   "cell_type": "code",
   "execution_count": 149,
   "metadata": {},
   "outputs": [],
   "source": [
    "from sklearn.model_selection import train_test_split\n",
    "from sklearn import preprocessing\n",
    "from sklearn.preprocessing import StandardScaler\n",
    "from numpy import int64\n",
    "\n"
   ]
  },
  {
   "cell_type": "code",
   "execution_count": 150,
   "metadata": {},
   "outputs": [],
   "source": [
    "scores=[]"
   ]
  },
  {
   "cell_type": "code",
   "execution_count": 151,
   "metadata": {},
   "outputs": [],
   "source": [
    "from sklearn.linear_model import LogisticRegression\n",
    "from sklearn.metrics import accuracy_score\n",
    "from xgboost import XGBClassifier\n",
    "import lightgbm as lgb\n",
    "from sklearn.ensemble import RandomForestClassifier\n",
    "import pickle\n",
    "\n",
    "def logc(y_train,y_test,X_train,X_test,index):\n",
    "    logreg = LogisticRegression()\n",
    "    logreg.fit(X_train, y_train)\n",
    "    y_pred = logreg.predict(X_test)\n",
    "    score=accuracy_score(y_test, y_pred)\n",
    "    scores.append(score)\n",
    "    print('Logistic Regression accuracy score with all the features: {0:0.4f}'. format(score))\n",
    "    filename=\"logreg\"+str(index)+\".sav\"\n",
    "    pickle.dump(logreg,open(filename,\"wb\"))\n",
    "\n",
    "def xgbs(y_train,y_test,X_train,X_test,index):\n",
    "    bst = XGBClassifier(n_estimators=6, max_depth=8, learning_rate=0.8, objective='binary:logistic')\n",
    "    bst.fit(X_train,y_train)\n",
    "    y_pred = bst.predict(X_test)\n",
    "    score=accuracy_score(y_test, y_pred)\n",
    "    scores.append(score)\n",
    "    print('XGBClassifier accuracy score with all the features: {0:0.4f}'. format(score))\n",
    "    filename=\"bst\"+str(index)+\".sav\"\n",
    "    pickle.dump(bst,open(filename,\"wb\"))\n",
    "\n",
    "def rfs(y_train,y_test,X_train,X_test,index):\n",
    "    rf = RandomForestClassifier(random_state=0,n_estimators=18,max_depth=15)\n",
    "    rf.fit(X_train,y_train)\n",
    "    y_pred = rf.predict(X_test)\n",
    "    score=accuracy_score(y_test, y_pred)\n",
    "    scores.append(score)\n",
    "    print('RandomForestClassifier accuracy score with all the features: {0:0.4f}'. format(score))\n",
    "    filename=\"rf\"+str(index)+\".sav\"\n",
    "    pickle.dump(rf,open(filename,\"wb\"))   \n",
    "def lgbs(y_train,y_test,X_train,X_test,index):\n",
    "    clf = lgb.LGBMClassifier()\n",
    "    clf.fit(X_train, y_train)\n",
    "    y_pred = clf.predict(X_test)\n",
    "    score=accuracy_score(y_test, y_pred)\n",
    "    scores.append(score)\n",
    "    print('LGBMClassifier accuracy score with all the features: {0:0.4f}'. format(score))\n",
    "    filename=\"clf\"+str(index)+\".ptl\"\n",
    "    pickle.dump(clf,open(filename,\"wb\"))"
   ]
  },
  {
   "cell_type": "code",
   "execution_count": 152,
   "metadata": {},
   "outputs": [],
   "source": [
    "def load_pre(filename,X_test,y_test):\n",
    "    loaded_model = pickle.load(open(filename, 'rb'))\n",
    "    y_pred = loaded_model.predict(X_test)\n",
    "    print(accuracy_score(y_test, y_pred))"
   ]
  },
  {
   "cell_type": "code",
   "execution_count": 153,
   "metadata": {},
   "outputs": [],
   "source": [
    "def genModel(seed:int,only=False):\n",
    "        X_train, X_test, y_train, y_test = train_test_split(X, y, test_size = 0.3, random_state = seed)\n",
    "        categorical = ['workclass', 'education', 'marital.status', 'occupation', 'relationship', 'race', 'sex', 'native.country']\n",
    "        for feature in categorical:\n",
    "                le = preprocessing.LabelEncoder()\n",
    "                X_train[feature] = le.fit_transform(X_train[feature])\n",
    "                X_test[feature] = le.transform(X_test[feature])\n",
    "        scaler = StandardScaler()\n",
    "\n",
    "        X_train = pd.DataFrame(scaler.fit_transform(X_train), columns = X.columns)\n",
    "\n",
    "        X_test = pd.DataFrame(scaler.transform(X_test), columns = X.columns)\n",
    "\n",
    "        y_train[y_train==\"<=50K\"]=0\n",
    "        y_train[y_train==\">50K\"]=1\n",
    "        y_test[y_test==\"<=50K\"]=0\n",
    "        y_test[y_test==\">50K\"]=1\n",
    "        y_train=y_train.astype(int64)\n",
    "        y_test=y_test.astype(int64)\n",
    "        # load_pre(\"/home/zyxing/adult_income/logreg0.sav\",X_test=X_test,y_test=y_test)\n",
    "        # lgbs(y_train=y_train,y_test=y_test,X_train=X_train,X_test=X_test,index=seed)\n",
    "        if not only:\n",
    "                # logc(y_train,y_test,X_train,X_test,index=seed)\n",
    "                # xgbs(y_train=y_train,y_test=y_test,X_train=X_train,X_test=X_test,index=seed)\n",
    "                rfs(y_train=y_train,y_test=y_test,X_train=X_train,X_test=X_test,index=seed)\n",
    "        "
   ]
  },
  {
   "cell_type": "code",
   "execution_count": 154,
   "metadata": {},
   "outputs": [
    {
     "name": "stdout",
     "output_type": "stream",
     "text": [
      "RandomForestClassifier accuracy score with all the features: 0.8582\n",
      "y contains previously unseen labels: 'Holand-Netherlands'\n",
      "y contains previously unseen labels: 'Holand-Netherlands'\n",
      "RandomForestClassifier accuracy score with all the features: 0.8616\n",
      "RandomForestClassifier accuracy score with all the features: 0.8567\n",
      "RandomForestClassifier accuracy score with all the features: 0.8630\n",
      "y contains previously unseen labels: 'Holand-Netherlands'\n",
      "RandomForestClassifier accuracy score with all the features: 0.8608\n",
      "RandomForestClassifier accuracy score with all the features: 0.8609\n",
      "y contains previously unseen labels: 'Holand-Netherlands'\n",
      "y contains previously unseen labels: 'Holand-Netherlands'\n",
      "RandomForestClassifier accuracy score with all the features: 0.8630\n",
      "RandomForestClassifier accuracy score with all the features: 0.8663\n",
      "y contains previously unseen labels: 'Holand-Netherlands'\n",
      "RandomForestClassifier accuracy score with all the features: 0.8624\n",
      "y contains previously unseen labels: 'Holand-Netherlands'\n",
      "RandomForestClassifier accuracy score with all the features: 0.8631\n",
      "RandomForestClassifier accuracy score with all the features: 0.8597\n",
      "RandomForestClassifier accuracy score with all the features: 0.8622\n",
      "RandomForestClassifier accuracy score with all the features: 0.8576\n",
      "RandomForestClassifier accuracy score with all the features: 0.8600\n",
      "RandomForestClassifier accuracy score with all the features: 0.8667\n",
      "RandomForestClassifier accuracy score with all the features: 0.8584\n",
      "RandomForestClassifier accuracy score with all the features: 0.8637\n",
      "RandomForestClassifier accuracy score with all the features: 0.8631\n",
      "RandomForestClassifier accuracy score with all the features: 0.8605\n",
      "RandomForestClassifier accuracy score with all the features: 0.8620\n",
      "y contains previously unseen labels: 'Holand-Netherlands'\n",
      "y contains previously unseen labels: 'Holand-Netherlands'\n",
      "y contains previously unseen labels: 'Holand-Netherlands'\n"
     ]
    }
   ],
   "source": [
    "for i in range(30):\n",
    "    try:\n",
    "        genModel(i)\n",
    "    except Exception as e:\n",
    "        print(e)\n",
    "        continue "
   ]
  },
  {
   "cell_type": "code",
   "execution_count": 155,
   "metadata": {},
   "outputs": [],
   "source": [
    "np.save(\"scores.npy\",np.array(scores))"
   ]
  },
  {
   "cell_type": "code",
   "execution_count": 156,
   "metadata": {},
   "outputs": [],
   "source": [
    "# scores=[]\n",
    "# for i in range(30,140):\n",
    "#     try:\n",
    "#         genModel(i,True)\n",
    "#     except Exception as e:\n",
    "#         print(e)\n",
    "#         continue \n",
    "# np.save(\"scores.npy\",np.array(scores))"
   ]
  }
 ],
 "metadata": {
  "kernelspec": {
   "display_name": "compare",
   "language": "python",
   "name": "python3"
  },
  "language_info": {
   "codemirror_mode": {
    "name": "ipython",
    "version": 3
   },
   "file_extension": ".py",
   "mimetype": "text/x-python",
   "name": "python",
   "nbconvert_exporter": "python",
   "pygments_lexer": "ipython3",
   "version": "3.10.9"
  },
  "orig_nbformat": 4
 },
 "nbformat": 4,
 "nbformat_minor": 2
}
