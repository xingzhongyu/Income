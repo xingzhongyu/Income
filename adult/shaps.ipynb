{
 "cells": [
  {
   "cell_type": "code",
   "execution_count": 75,
   "metadata": {},
   "outputs": [],
   "source": [
    "import pandas as pd \n",
    "import numpy as np"
   ]
  },
  {
   "cell_type": "code",
   "execution_count": 76,
   "metadata": {},
   "outputs": [],
   "source": [
    "df=pd.read_csv(\"adult.csv\",encoding='latin-1')\n",
    "df[df == '?'] = np.nan\n",
    "for col in ['workclass', 'occupation', 'native.country']:\n",
    "    df[col].fillna(df[col].mode()[0], inplace=True)\n",
    "X = df.drop(['income'], axis=1)\n",
    "y = df['income']"
   ]
  },
  {
   "cell_type": "code",
   "execution_count": 77,
   "metadata": {},
   "outputs": [],
   "source": [
    "leng=X.shape[0]"
   ]
  },
  {
   "cell_type": "code",
   "execution_count": 78,
   "metadata": {},
   "outputs": [],
   "source": [
    "X_shap,y_shap=X[:int(leng*0.7)].copy(),y[:int(leng*0.7)].copy()\n",
    "X_background,y_background=X[int(leng*0.7):].copy(),y[int(leng*0.7):].copy()"
   ]
  },
  {
   "cell_type": "code",
   "execution_count": 79,
   "metadata": {},
   "outputs": [],
   "source": [
    "from sklearn.model_selection import train_test_split\n",
    "from sklearn import preprocessing\n",
    "from sklearn.preprocessing import StandardScaler\n",
    "from numpy import int64\n",
    "from sklearn.linear_model import LogisticRegression\n",
    "from sklearn.metrics import accuracy_score\n",
    "from xgboost import XGBClassifier\n",
    "import lightgbm as lgb\n",
    "from sklearn.ensemble import RandomForestClassifier\n",
    "import pickle"
   ]
  },
  {
   "cell_type": "code",
   "execution_count": 80,
   "metadata": {},
   "outputs": [],
   "source": [
    "categorical = ['workclass', 'education', 'marital.status', 'occupation', 'relationship', 'race', 'sex', 'native.country']\n",
    "for feature in categorical:\n",
    "        le = preprocessing.LabelEncoder()\n",
    "        X_shap[feature] = le.fit_transform(X_shap[feature])\n",
    "        X_background[feature] = le.transform(X_background[feature])\n",
    "scaler = StandardScaler()\n",
    "\n",
    "X_shap = pd.DataFrame(scaler.fit_transform(X_shap), columns = X.columns)\n",
    "\n",
    "X_background = pd.DataFrame(scaler.transform(X_background), columns = X.columns)\n",
    "\n",
    "y_shap[y_shap==\"<=50K\"]=0\n",
    "y_shap[y_shap==\">50K\"]=1\n",
    "y_background[y_background==\"<=50K\"]=0\n",
    "y_background[y_background==\">50K\"]=1\n",
    "y_shap=y_shap.astype(int64)\n",
    "y_background=y_background.astype(int64)"
   ]
  },
  {
   "cell_type": "code",
   "execution_count": 81,
   "metadata": {},
   "outputs": [],
   "source": [
    "import shap\n",
    "import matplotlib.pyplot as plt\n",
    "import os\n",
    "import time\n",
    "shap_values=None\n",
    "def load_pre(filename,isTree=True,save=True):\n",
    "    loaded_model = pickle.load(open(filename, 'rb'))\n",
    "    # y_pred=loaded_model.predict(X_shap)\n",
    "    # print(accuracy_score(y_shap,y_pred))\n",
    "    global shap_values\n",
    "\n",
    "    if isTree:\n",
    "        explainer = shap.TreeExplainer(loaded_model)\n",
    "        shap_values = explainer.shap_values(X=X_shap)\n",
    "    else:\n",
    "        explainer = shap.Explainer(loaded_model,X_background)\n",
    "        shap_values = explainer.shap_values(X_shap)\n",
    "    # print(shap_values)\n",
    "    if isinstance(shap_values,list):\n",
    "        # shap.summary_plot(shap_values[0],X_shap,max_display=10)\n",
    "        # shap.summary_plot(shap_values[1],X_shap,max_display=10)\n",
    "        if save:\n",
    "            np.save(\"/home/zyxing/adult_income/shaps/\"+os.path.basename(filename)+\".npy\",np.array(shap_values[1]))\n",
    "        else:\n",
    "            shap.summary_plot(shap_values[1],X_shap,max_display=5,show=False)\n",
    "            plt.savefig(str(time.time())+\".png\")\n",
    "    else:\n",
    "        if save:\n",
    "            np.save(\"/home/zyxing/adult_income/shaps/\"+os.path.basename(filename)+\".npy\",np.array(shap_values))\n",
    "        else:\n",
    "            shap.summary_plot(shap_values,X_shap,max_display=5,show=False)\n",
    "            plt.savefig(str(time.time())+\".png\")\n",
    "\n",
    "    "
   ]
  },
  {
   "cell_type": "markdown",
   "metadata": {},
   "source": []
  },
  {
   "cell_type": "code",
   "execution_count": 82,
   "metadata": {},
   "outputs": [],
   "source": [
    "# import os\n",
    "# os.path.basename(\"/home/zyxing/adult_income/models/bst0.sav\")"
   ]
  },
  {
   "cell_type": "code",
   "execution_count": 83,
   "metadata": {},
   "outputs": [],
   "source": [
    "def findAllFile(base):\n",
    "    for root, ds, fs in os.walk(base):\n",
    "        for f in fs:\n",
    "            fullname = os.path.join(root, f)\n",
    "            yield fullname"
   ]
  },
  {
   "cell_type": "code",
   "execution_count": 84,
   "metadata": {},
   "outputs": [],
   "source": [
    "# for i in findAllFile(\"/home/zyxing/adult_income/models\"):\n",
    "#     print(i)"
   ]
  },
  {
   "cell_type": "code",
   "execution_count": 85,
   "metadata": {},
   "outputs": [],
   "source": [
    "# shap_values"
   ]
  },
  {
   "cell_type": "code",
   "execution_count": 86,
   "metadata": {},
   "outputs": [],
   "source": [
    "# load_pre(\"/home/zyxing/adult_income/models/bst0.sav\")\n",
    "# load_pre(\"/home/zyxing/adult_income/models/clf0.ptl\",save=False)\n",
    "# load_pre(\"/home/zyxing/adult_income/models/clf16.ptl\",save=False)\n",
    "# load_pre(\"/home/zyxing/adult_income/models/logreg0.sav\",isTree=False)\n",
    "# load_pre(\"/home/zyxing/adult_income/models/rf0.sav\")"
   ]
  },
  {
   "cell_type": "code",
   "execution_count": 87,
   "metadata": {},
   "outputs": [
    {
     "data": {
      "text/plain": [
       "NoneType"
      ]
     },
     "execution_count": 87,
     "metadata": {},
     "output_type": "execute_result"
    }
   ],
   "source": [
    "type(shap_values)"
   ]
  },
  {
   "cell_type": "code",
   "execution_count": 88,
   "metadata": {},
   "outputs": [
    {
     "name": "stdout",
     "output_type": "stream",
     "text": [
      "1\n",
      "2\n",
      "3\n",
      "4\n",
      "5\n",
      "6\n",
      "7\n",
      "8\n",
      "9\n",
      "10\n",
      "11\n",
      "12\n",
      "13\n",
      "14\n",
      "15\n",
      "16\n",
      "17\n",
      "18\n",
      "19\n",
      "20\n",
      "21\n",
      "22\n",
      "23\n",
      "24\n",
      "25\n",
      "26\n",
      "27\n",
      "28\n",
      "29\n",
      "30\n",
      "31\n",
      "32\n",
      "33\n",
      "34\n",
      "35\n",
      "36\n",
      "37\n",
      "38\n",
      "39\n",
      "40\n",
      "41\n",
      "42\n",
      "43\n",
      "44\n",
      "45\n",
      "46\n",
      "47\n",
      "48\n",
      "49\n",
      "50\n",
      "51\n",
      "52\n",
      "53\n",
      "54\n",
      "55\n",
      "56\n",
      "57\n",
      "58\n",
      "59\n",
      "60\n",
      "61\n",
      "62\n",
      "63\n",
      "64\n",
      "65\n",
      "66\n",
      "67\n",
      "68\n",
      "69\n",
      "70\n",
      "71\n",
      "72\n",
      "73\n",
      "74\n",
      "75\n",
      "76\n",
      "77\n",
      "78\n",
      "79\n",
      "80\n",
      "81\n",
      "82\n",
      "83\n",
      "84\n",
      "85\n",
      "86\n",
      "87\n",
      "88\n",
      "89\n",
      "90\n",
      "91\n",
      "92\n",
      "93\n",
      "94\n",
      "95\n",
      "96\n",
      "97\n",
      "98\n",
      "99\n",
      "100\n",
      "101\n",
      "102\n",
      "103\n",
      "104\n",
      "105\n",
      "106\n",
      "107\n",
      "108\n",
      "109\n",
      "110\n",
      "111\n",
      "112\n",
      "113\n",
      "114\n",
      "115\n",
      "116\n",
      "117\n",
      "118\n",
      "119\n",
      "120\n",
      "121\n",
      "122\n",
      "123\n",
      "124\n",
      "125\n",
      "126\n",
      "127\n",
      "128\n",
      "129\n",
      "130\n",
      "131\n",
      "132\n",
      "133\n",
      "134\n",
      "135\n",
      "136\n",
      "137\n",
      "138\n",
      "139\n",
      "140\n",
      "141\n",
      "142\n",
      "143\n",
      "144\n",
      "145\n",
      "146\n",
      "147\n",
      "148\n",
      "149\n",
      "150\n",
      "151\n",
      "152\n",
      "153\n",
      "154\n"
     ]
    }
   ],
   "source": [
    "count1=0\n",
    "\n",
    "for i in findAllFile(\"/home/zyxing/adult_income/models\"):\n",
    "    name=os.path.basename(i)\n",
    "    # if name.startswith(\"rf\"):\n",
    "    #     load_pre(i)\n",
    "    if name.startswith(\"logreg\"):\n",
    "        load_pre(i,False)\n",
    "#     elif name.startswith(\"bst\"):\n",
    "#         load_pre(i)\n",
    "#     elif name.startswith(\"clf\"):\n",
    "#         load_pre(i)\n",
    "    count1+=1\n",
    "    print(count1)"
   ]
  }
 ],
 "metadata": {
  "kernelspec": {
   "display_name": "compare",
   "language": "python",
   "name": "python3"
  },
  "language_info": {
   "codemirror_mode": {
    "name": "ipython",
    "version": 3
   },
   "file_extension": ".py",
   "mimetype": "text/x-python",
   "name": "python",
   "nbconvert_exporter": "python",
   "pygments_lexer": "ipython3",
   "version": "3.10.9"
  },
  "orig_nbformat": 4
 },
 "nbformat": 4,
 "nbformat_minor": 2
}
