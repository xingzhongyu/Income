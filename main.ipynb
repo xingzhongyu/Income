{
 "cells": [
  {
   "cell_type": "code",
   "execution_count": 1,
   "metadata": {
    "collapsed": true
   },
   "outputs": [],
   "source": [
    "import pandas as pd\n",
    "import numpy as np\n",
    "import shap as shap"
   ]
  },
  {
   "cell_type": "code",
   "execution_count": 6,
   "outputs": [],
   "source": [
    "import json\n",
    "a=json.dumps({\"a\":1})"
   ],
   "metadata": {
    "collapsed": false
   }
  },
  {
   "cell_type": "code",
   "execution_count": 7,
   "outputs": [
    {
     "data": {
      "text/plain": "{'a': 1}"
     },
     "execution_count": 7,
     "metadata": {},
     "output_type": "execute_result"
    }
   ],
   "source": [
    "json.loads(a)"
   ],
   "metadata": {
    "collapsed": false
   }
  },
  {
   "cell_type": "code",
   "execution_count": 2,
   "outputs": [],
   "source": [
    "df=pd.read_csv(\"adult.csv\",encoding='latin-1')\n",
    "df[df == '?'] = np.nan\n",
    "for col in ['workclass', 'occupation', 'native.country']:\n",
    "    df[col].fillna(df[col].mode()[0], inplace=True)\n",
    "X = df.drop(['income'], axis=1)\n",
    "y = df['income']"
   ],
   "metadata": {
    "collapsed": false
   }
  },
  {
   "cell_type": "code",
   "execution_count": 3,
   "outputs": [],
   "source": [
    "filenames=['models/clf136.ptl',\n",
    " 'models/clf93.ptl',\n",
    " 'models/clf90.ptl',\n",
    " 'models/clf133.ptl',\n",
    " 'models/clf97.ptl']\n",
    "url=[\"static/1681784002.526944net.pt\",\"static/1681784119.9099834clf136.ptl\",\"static/1681784142.0146716clf93.ptl\",\"static/1681784163.633804clf90.ptl\",\"static/1681784185.649614clf133.ptl\",\"static/1681784199.7517712clf97.ptl\",\"static/1681786345.2919972X_train.pickle\"]"
   ],
   "metadata": {
    "collapsed": false
   }
  },
  {
   "cell_type": "code",
   "execution_count": 4,
   "outputs": [],
   "source": [
    "from numpy import int64\n",
    "from sklearn.preprocessing import StandardScaler\n",
    "from sklearn import preprocessing\n",
    "from sklearn.model_selection import train_test_split\n",
    "X_train, X_test, y_train, y_test = train_test_split(X, y, test_size = 0.3, random_state = 42)"
   ],
   "metadata": {
    "collapsed": false
   }
  },
  {
   "cell_type": "code",
   "execution_count": 5,
   "outputs": [
    {
     "data": {
      "text/plain": "       age         workclass  fnlwgt     education  education.num   \n14160   29           Private  280618  Some-college             10  \\\n27048   19           Private  439779  Some-college             10   \n28868   28           Private  204734  Some-college             10   \n5667    35           Private  107991          11th              7   \n7827    20           Private   54152  Some-college             10   \n...    ...               ...     ...           ...            ...   \n32476   58      Self-emp-inc  181974     Doctorate             16   \n21100   55  Self-emp-not-inc   98361       HS-grad              9   \n27131   35         State-gov  154410  Some-college             10   \n25526   60           Private  232337       7th-8th              4   \n21385   22           Private  255969          12th              8   \n\n           marital.status         occupation   relationship   race     sex   \n14160  Married-civ-spouse  Handlers-cleaners        Husband  White    Male  \\\n27048       Never-married              Sales      Own-child  White    Male   \n28868  Married-civ-spouse       Tech-support           Wife  White  Female   \n5667        Never-married              Sales  Not-in-family  White    Male   \n7827        Never-married       Adm-clerical      Own-child  White  Female   \n...                   ...                ...            ...    ...     ...   \n32476       Never-married     Prof-specialty  Not-in-family  White  Female   \n21100       Never-married       Craft-repair      Own-child  White    Male   \n27131       Never-married    Farming-fishing      Own-child  White    Male   \n25526            Divorced  Machine-op-inspct  Not-in-family  White    Male   \n21385       Never-married     Prof-specialty  Not-in-family  White    Male   \n\n       capital.gain  capital.loss  hours.per.week native.country  \n14160             0             0              40  United-States  \n27048             0             0              15  United-States  \n28868             0             0              40  United-States  \n5667              0             0              45  United-States  \n7827              0             0              30  United-States  \n...             ...           ...             ...            ...  \n32476             0             0              99  United-States  \n21100             0             0              35  United-States  \n27131             0             0              40  United-States  \n25526             0             0              40  United-States  \n21385             0             0              48  United-States  \n\n[9769 rows x 14 columns]",
      "text/html": "<div>\n<style scoped>\n    .dataframe tbody tr th:only-of-type {\n        vertical-align: middle;\n    }\n\n    .dataframe tbody tr th {\n        vertical-align: top;\n    }\n\n    .dataframe thead th {\n        text-align: right;\n    }\n</style>\n<table border=\"1\" class=\"dataframe\">\n  <thead>\n    <tr style=\"text-align: right;\">\n      <th></th>\n      <th>age</th>\n      <th>workclass</th>\n      <th>fnlwgt</th>\n      <th>education</th>\n      <th>education.num</th>\n      <th>marital.status</th>\n      <th>occupation</th>\n      <th>relationship</th>\n      <th>race</th>\n      <th>sex</th>\n      <th>capital.gain</th>\n      <th>capital.loss</th>\n      <th>hours.per.week</th>\n      <th>native.country</th>\n    </tr>\n  </thead>\n  <tbody>\n    <tr>\n      <th>14160</th>\n      <td>29</td>\n      <td>Private</td>\n      <td>280618</td>\n      <td>Some-college</td>\n      <td>10</td>\n      <td>Married-civ-spouse</td>\n      <td>Handlers-cleaners</td>\n      <td>Husband</td>\n      <td>White</td>\n      <td>Male</td>\n      <td>0</td>\n      <td>0</td>\n      <td>40</td>\n      <td>United-States</td>\n    </tr>\n    <tr>\n      <th>27048</th>\n      <td>19</td>\n      <td>Private</td>\n      <td>439779</td>\n      <td>Some-college</td>\n      <td>10</td>\n      <td>Never-married</td>\n      <td>Sales</td>\n      <td>Own-child</td>\n      <td>White</td>\n      <td>Male</td>\n      <td>0</td>\n      <td>0</td>\n      <td>15</td>\n      <td>United-States</td>\n    </tr>\n    <tr>\n      <th>28868</th>\n      <td>28</td>\n      <td>Private</td>\n      <td>204734</td>\n      <td>Some-college</td>\n      <td>10</td>\n      <td>Married-civ-spouse</td>\n      <td>Tech-support</td>\n      <td>Wife</td>\n      <td>White</td>\n      <td>Female</td>\n      <td>0</td>\n      <td>0</td>\n      <td>40</td>\n      <td>United-States</td>\n    </tr>\n    <tr>\n      <th>5667</th>\n      <td>35</td>\n      <td>Private</td>\n      <td>107991</td>\n      <td>11th</td>\n      <td>7</td>\n      <td>Never-married</td>\n      <td>Sales</td>\n      <td>Not-in-family</td>\n      <td>White</td>\n      <td>Male</td>\n      <td>0</td>\n      <td>0</td>\n      <td>45</td>\n      <td>United-States</td>\n    </tr>\n    <tr>\n      <th>7827</th>\n      <td>20</td>\n      <td>Private</td>\n      <td>54152</td>\n      <td>Some-college</td>\n      <td>10</td>\n      <td>Never-married</td>\n      <td>Adm-clerical</td>\n      <td>Own-child</td>\n      <td>White</td>\n      <td>Female</td>\n      <td>0</td>\n      <td>0</td>\n      <td>30</td>\n      <td>United-States</td>\n    </tr>\n    <tr>\n      <th>...</th>\n      <td>...</td>\n      <td>...</td>\n      <td>...</td>\n      <td>...</td>\n      <td>...</td>\n      <td>...</td>\n      <td>...</td>\n      <td>...</td>\n      <td>...</td>\n      <td>...</td>\n      <td>...</td>\n      <td>...</td>\n      <td>...</td>\n      <td>...</td>\n    </tr>\n    <tr>\n      <th>32476</th>\n      <td>58</td>\n      <td>Self-emp-inc</td>\n      <td>181974</td>\n      <td>Doctorate</td>\n      <td>16</td>\n      <td>Never-married</td>\n      <td>Prof-specialty</td>\n      <td>Not-in-family</td>\n      <td>White</td>\n      <td>Female</td>\n      <td>0</td>\n      <td>0</td>\n      <td>99</td>\n      <td>United-States</td>\n    </tr>\n    <tr>\n      <th>21100</th>\n      <td>55</td>\n      <td>Self-emp-not-inc</td>\n      <td>98361</td>\n      <td>HS-grad</td>\n      <td>9</td>\n      <td>Never-married</td>\n      <td>Craft-repair</td>\n      <td>Own-child</td>\n      <td>White</td>\n      <td>Male</td>\n      <td>0</td>\n      <td>0</td>\n      <td>35</td>\n      <td>United-States</td>\n    </tr>\n    <tr>\n      <th>27131</th>\n      <td>35</td>\n      <td>State-gov</td>\n      <td>154410</td>\n      <td>Some-college</td>\n      <td>10</td>\n      <td>Never-married</td>\n      <td>Farming-fishing</td>\n      <td>Own-child</td>\n      <td>White</td>\n      <td>Male</td>\n      <td>0</td>\n      <td>0</td>\n      <td>40</td>\n      <td>United-States</td>\n    </tr>\n    <tr>\n      <th>25526</th>\n      <td>60</td>\n      <td>Private</td>\n      <td>232337</td>\n      <td>7th-8th</td>\n      <td>4</td>\n      <td>Divorced</td>\n      <td>Machine-op-inspct</td>\n      <td>Not-in-family</td>\n      <td>White</td>\n      <td>Male</td>\n      <td>0</td>\n      <td>0</td>\n      <td>40</td>\n      <td>United-States</td>\n    </tr>\n    <tr>\n      <th>21385</th>\n      <td>22</td>\n      <td>Private</td>\n      <td>255969</td>\n      <td>12th</td>\n      <td>8</td>\n      <td>Never-married</td>\n      <td>Prof-specialty</td>\n      <td>Not-in-family</td>\n      <td>White</td>\n      <td>Male</td>\n      <td>0</td>\n      <td>0</td>\n      <td>48</td>\n      <td>United-States</td>\n    </tr>\n  </tbody>\n</table>\n<p>9769 rows × 14 columns</p>\n</div>"
     },
     "execution_count": 5,
     "metadata": {},
     "output_type": "execute_result"
    }
   ],
   "source": [
    "X_test"
   ],
   "metadata": {
    "collapsed": false
   }
  },
  {
   "cell_type": "code",
   "execution_count": 23,
   "outputs": [],
   "source": [
    "import pickle\n",
    "with open(\"X_test.pickle\",\"wb\") as f:\n",
    "    pickle.dump(X_test[60:61],f)"
   ],
   "metadata": {
    "collapsed": false
   }
  },
  {
   "cell_type": "code",
   "execution_count": 7,
   "outputs": [
    {
     "name": "stdout",
     "output_type": "stream",
     "text": [
      "['static/1681784119.9099834clf136.ptl', 'static/1681784142.0146716clf93.ptl', 'static/1681784163.633804clf90.ptl', 'static/1681784185.649614clf133.ptl', 'static/1681784199.7517712clf97.ptl']\n"
     ]
    }
   ],
   "source": [
    "from getSingleData import Income\n",
    "a=Income(filenames=[\"static/1681784119.9099834clf136.ptl\",\"static/1681784142.0146716clf93.ptl\",\"static/1681784163.633804clf90.ptl\",\"static/1681784185.649614clf133.ptl\",\"static/1681784199.7517712clf97.ptl\"],net_path=\"static/1681784002.526944net.pt\")"
   ],
   "metadata": {
    "collapsed": false
   }
  },
  {
   "cell_type": "code",
   "execution_count": 21,
   "outputs": [],
   "source": [],
   "metadata": {
    "collapsed": false
   }
  },
  {
   "cell_type": "code",
   "execution_count": 15,
   "outputs": [],
   "source": [
    "exp=a.explain(X_test[:1],method=6)"
   ],
   "metadata": {
    "collapsed": false
   }
  },
  {
   "cell_type": "code",
   "execution_count": 16,
   "outputs": [
    {
     "data": {
      "text/plain": "(1, 14)"
     },
     "execution_count": 16,
     "metadata": {},
     "output_type": "execute_result"
    }
   ],
   "source": [
    "exp.shape"
   ],
   "metadata": {
    "collapsed": false
   }
  },
  {
   "cell_type": "code",
   "execution_count": 32,
   "outputs": [
    {
     "data": {
      "text/plain": "<Figure size 800x710 with 1 Axes>",
      "image/png": "[encoded data removed]"
     },
     "metadata": {},
     "output_type": "display_data"
    }
   ],
   "source": [
    "\n",
    "import time\n",
    "from matplotlib import pyplot as plt\n",
    "\n",
    "fig=shap.summary_plot(exp,X_test[:1],plot_type='bar',show=False)\n",
    "plt.savefig(str(time.time())+\"exp.png\")"
   ],
   "metadata": {
    "collapsed": false
   }
  },
  {
   "cell_type": "code",
   "execution_count": 8,
   "outputs": [
    {
     "data": {
      "text/plain": "0.13356596265687176"
     },
     "execution_count": 8,
     "metadata": {},
     "output_type": "execute_result"
    }
   ],
   "source": [
    "a.eval_exp(X=X_test[1:2])"
   ],
   "metadata": {
    "collapsed": false
   }
  },
  {
   "cell_type": "code",
   "execution_count": 20,
   "outputs": [],
   "source": [
    "from numpy import int64\n",
    "from sklearn.preprocessing import StandardScaler\n",
    "from sklearn import preprocessing\n",
    "from sklearn.model_selection import train_test_split\n",
    "X_train, X_test, y_train, y_test = train_test_split(X, y, test_size = 0.3, random_state = 42)\n",
    "categorical = ['workclass', 'education', 'marital.status', 'occupation', 'relationship', 'race', 'sex', 'native.country']\n",
    "for feature in categorical:\n",
    "        le = preprocessing.LabelEncoder()\n",
    "        X_train[feature] = le.fit_transform(X_train[feature])\n",
    "        X_test[feature] = le.transform(X_test[feature])\n",
    "scaler = StandardScaler()\n",
    "\n",
    "X_train = pd.DataFrame(scaler.fit_transform(X_train), columns = X.columns)\n",
    "\n",
    "X_test = pd.DataFrame(scaler.transform(X_test), columns = X.columns)\n",
    "\n",
    "y_train[y_train==\"<=50K\"]=0\n",
    "y_train[y_train==\">50K\"]=1\n",
    "y_test[y_test==\"<=50K\"]=0\n",
    "y_test[y_test==\">50K\"]=1\n",
    "y_train=y_train.astype(int64)\n",
    "y_test=y_test.astype(int64)"
   ],
   "metadata": {
    "collapsed": false
   }
  },
  {
   "cell_type": "code",
   "execution_count": null,
   "outputs": [],
   "source": [],
   "metadata": {
    "collapsed": false
   }
  },
  {
   "cell_type": "code",
   "execution_count": 5,
   "outputs": [],
   "source": [
    "import pickle\n",
    "with open(\"X_train.pickle\",\"wb\")as f:\n",
    "    pickle.dump(X_train[:1],f)"
   ],
   "metadata": {
    "collapsed": false
   }
  },
  {
   "cell_type": "code",
   "execution_count": 6,
   "outputs": [],
   "source": [
    "from io import BytesIO\n",
    "with open(\"X_train.pickle\",\"rb\")as f:\n",
    "    buf = BytesIO(f.read())\n",
    "    f.close()\n",
    "    model=pickle.load(buf)"
   ],
   "metadata": {
    "collapsed": false
   }
  },
  {
   "cell_type": "code",
   "execution_count": 9,
   "outputs": [],
   "source": [
    "from torch import nn\n",
    "import torch\n",
    "from torch.utils.data import Dataset\n",
    "\n",
    "\n",
    "class MyDataSet(Dataset):\n",
    "    def __init__(self,data_x,data_y):\n",
    "        self.x=torch.tensor(data_x).to(torch.float)\n",
    "        self.y=torch.tensor(data_y).to(torch.float)\n",
    "        # print(self.x.shape,self.y.shape)\n",
    "    def __getitem__(self, item):\n",
    "        return self.x[item],self.y[item],item\n",
    "    def __len__(self):\n",
    "        return len(self.x)\n",
    "class MyNetWork(nn.Module):\n",
    "    def __init__(self):\n",
    "        super(MyNetWork,self).__init__()\n",
    "        self.fc1=nn.Linear(5,1)\n",
    "        # self.fc2=nn.Linear(2,1)\n",
    "    def forward(self,x):\n",
    "        x=self.fc1(x)\n",
    "        # x=self.fc2(x)\n",
    "        return x"
   ],
   "metadata": {
    "collapsed": false
   }
  },
  {
   "cell_type": "code",
   "execution_count": 10,
   "outputs": [],
   "source": [
    "import shap\n",
    "\n",
    "masker = shap.maskers.Independent(X_train)\n",
    "pmasker = shap.maskers.Partition(X_train)"
   ],
   "metadata": {
    "collapsed": false
   }
  },
  {
   "cell_type": "code",
   "execution_count": 11,
   "outputs": [],
   "source": [
    "from shap import benchmark"
   ],
   "metadata": {
    "collapsed": false
   }
  },
  {
   "cell_type": "code",
   "execution_count": 12,
   "outputs": [],
   "source": [
    "from io import BytesIO\n",
    "import pickle\n",
    "with open(filenames[0],'rb') as f:\n",
    "    buf = BytesIO(f.read())\n",
    "    f.close()\n",
    "    loaded_model = pickle.load(buf)"
   ],
   "metadata": {
    "collapsed": false
   }
  },
  {
   "cell_type": "code",
   "execution_count": 122,
   "outputs": [],
   "source": [
    "from scipy import stats\n",
    "def logit_predict(X):\n",
    "    ys=[]\n",
    "    for file_path in filenames:\n",
    "        loaded_model = pickle.load(open(file_path, 'rb'))\n",
    "        ys.append(loaded_model.predict(X))\n",
    "    ans=np.array(ys)\n",
    "    return np.array(pd.DataFrame(ans).mode()).squeeze()\n",
    "def logit_predict2(X):\n",
    "    return loaded_model.predict(X)"
   ],
   "metadata": {
    "collapsed": false
   }
  },
  {
   "cell_type": "code",
   "execution_count": 123,
   "outputs": [
    {
     "data": {
      "text/plain": "array([ True,  True,  True,  True,  True,  True,  True,  True,  True,\n        True,  True,  True,  True,  True,  True,  True,  True,  True,\n        True,  True,  True,  True,  True,  True,  True,  True,  True,\n        True,  True,  True,  True,  True,  True,  True,  True,  True,\n        True,  True,  True,  True,  True,  True,  True,  True,  True,\n        True,  True,  True,  True,  True,  True,  True,  True,  True,\n        True,  True,  True,  True,  True,  True,  True,  True,  True,\n        True,  True,  True,  True,  True,  True,  True,  True,  True,\n        True,  True,  True,  True,  True,  True,  True,  True,  True,\n        True,  True,  True,  True,  True,  True,  True,  True,  True,\n        True,  True,  True,  True,  True,  True,  True,  True,  True,\n        True])"
     },
     "execution_count": 123,
     "metadata": {},
     "output_type": "execute_result"
    }
   ],
   "source": [
    "logit_predict(X_train[:100])==logit_predict2(X_train[:100])"
   ],
   "metadata": {
    "collapsed": false
   }
  },
  {
   "cell_type": "code",
   "execution_count": 124,
   "outputs": [],
   "source": [
    "def explain_mean(X):\n",
    "    ys=[]\n",
    "    for file_path in filenames:\n",
    "        loaded_model = pickle.load(open(file_path, 'rb'))\n",
    "        explainer = shap.explainers.Tree(loaded_model, masker)\n",
    "        ys.append(explainer(X).values)\n",
    "    return np.mean(ys,axis=0)\n"
   ],
   "metadata": {
    "collapsed": false
   }
  },
  {
   "cell_type": "code",
   "execution_count": 125,
   "outputs": [],
   "source": [
    "net=MyNetWork()\n",
    "net.load_state_dict(torch.load(\"./adult/net.pt\"))\n",
    "def explain(X):\n",
    "    ys=[]\n",
    "    for file_path in filenames:\n",
    "        loaded_model = pickle.load(open(file_path, 'rb'))\n",
    "        explainer = shap.explainers.Tree(loaded_model, masker)\n",
    "        ys.append(explainer(X).values)\n",
    "    return np.array(net(torch.tensor(np.array(ys).transpose([1,2,0])).to(torch.float)).squeeze(dim=0).transpose(1,0).detach().numpy())\n"
   ],
   "metadata": {
    "collapsed": false
   }
  },
  {
   "cell_type": "code",
   "execution_count": 126,
   "outputs": [
    {
     "data": {
      "text/plain": "0.13856443220079578"
     },
     "execution_count": 126,
     "metadata": {},
     "output_type": "execute_result"
    }
   ],
   "source": [
    "\n",
    "smasker = shap.benchmark.SequentialMasker(\n",
    "        \"keep\", \"positive\", masker, logit_predict, np.array(X_train[:1])\n",
    "    )\n",
    "explainer = shap.explainers.Tree(loaded_model, masker)\n",
    "exp=explainer(X_train[:1]).values\n",
    "smasker(exp,name=\"Tree\").value"
   ],
   "metadata": {
    "collapsed": false
   }
  },
  {
   "cell_type": "code",
   "execution_count": 40,
   "outputs": [
    {
     "name": "stdout",
     "output_type": "stream",
     "text": [
      "0.11142230384654629\n"
     ]
    }
   ],
   "source": [
    "import pickle\n",
    "import quantus\n",
    "device=\"cpu\"\n",
    "shaps=[]\n",
    "for file_path in filenames[1:2]:\n",
    "    loaded_model = pickle.load(open(file_path, 'rb'))\n",
    "    # pre=loaded_model.predict(X_train[0:1])[0]\n",
    "    explainer = shap.explainers.Tree(loaded_model, masker)\n",
    "    # shap_values = explainer.shap_values(X=X_train[0:1])\n",
    "    # shaps.append(shap_values[pre])\n",
    "    def logit_predict(X):\n",
    "        return loaded_model.predict(X)\n",
    "    smasker = shap.benchmark.SequentialMasker(\n",
    "        \"keep\", \"positive\", masker, logit_predict, np.array(X_train[:1])\n",
    "    )\n",
    "    exp=explainer(X_train[0:1]).values\n",
    "    res=smasker(exp,name=\"Tree\")#或许可以手动输入解释\n",
    "    print(res.value)"
   ],
   "metadata": {
    "collapsed": false
   }
  },
  {
   "cell_type": "code",
   "execution_count": 30,
   "outputs": [
    {
     "data": {
      "text/plain": "array([[ 0.7970222 ,  0.00241278, -0.05928995, -0.00102832, -0.27767637,\n         0.6656965 ,  0.01621427,  0.41309777,  0.01792634,  0.09990667,\n        -0.02218851, -0.09527703,  0.031206  ,  0.02039415]],\n      dtype=float32)"
     },
     "execution_count": 30,
     "metadata": {},
     "output_type": "execute_result"
    }
   ],
   "source": [],
   "metadata": {
    "collapsed": false
   }
  },
  {
   "cell_type": "code",
   "execution_count": 45,
   "outputs": [
    {
     "data": {
      "text/plain": "0.14713498622589533"
     },
     "execution_count": 45,
     "metadata": {},
     "output_type": "execute_result"
    }
   ],
   "source": [],
   "metadata": {
    "collapsed": false
   }
  },
  {
   "cell_type": "code",
   "execution_count": 47,
   "outputs": [
    {
     "name": "stdout",
     "output_type": "stream",
     "text": [
      "(1, 14)\n"
     ]
    },
    {
     "data": {
      "text/plain": "0.11142230384654629"
     },
     "execution_count": 47,
     "metadata": {},
     "output_type": "execute_result"
    }
   ],
   "source": [],
   "metadata": {
    "collapsed": false
   }
  },
  {
   "cell_type": "code",
   "execution_count": 152,
   "outputs": [
    {
     "data": {
      "text/plain": "array([[ 0.74621852, -0.00163671, -0.03717308, -0.00099482, -0.30193335,\n         0.70569045,  0.07724382,  0.44000543,  0.01160138,  0.11324939,\n        -0.03816842, -0.06921843,  0.07746292,  0.03260783]])"
     },
     "execution_count": 152,
     "metadata": {},
     "output_type": "execute_result"
    }
   ],
   "source": [],
   "metadata": {
    "collapsed": false
   }
  },
  {
   "cell_type": "code",
   "execution_count": 154,
   "outputs": [
    {
     "data": {
      "text/plain": "array([[ 0.74621852, -0.00163671, -0.03717308, -0.00099482, -0.30193335,\n         0.70569045,  0.07724382,  0.44000543,  0.01160138,  0.11324939,\n        -0.03816842, -0.06921843,  0.07746292,  0.03260783]])"
     },
     "execution_count": 154,
     "metadata": {},
     "output_type": "execute_result"
    }
   ],
   "source": [
    "np.mean(np.array([exp.values, explainer.shap_values(X_train[:1])]),axis=0)"
   ],
   "metadata": {
    "collapsed": false
   }
  },
  {
   "cell_type": "code",
   "execution_count": 40,
   "outputs": [
    {
     "data": {
      "text/plain": "<All keys matched successfully>"
     },
     "execution_count": 40,
     "metadata": {},
     "output_type": "execute_result"
    }
   ],
   "source": [],
   "metadata": {
    "collapsed": false
   }
  },
  {
   "cell_type": "code",
   "execution_count": 45,
   "outputs": [
    {
     "data": {
      "text/plain": "tensor([[[-0.9090],\n         [-0.0096],\n         [ 0.0749],\n         [ 0.0037],\n         [ 0.3555],\n         [-0.8212],\n         [ 0.0175],\n         [-0.5343],\n         [-0.0334],\n         [-0.1121],\n         [ 0.2694],\n         [ 0.0715],\n         [-0.0166],\n         [-0.0149]]], grad_fn=<AddBackward0>)"
     },
     "execution_count": 45,
     "metadata": {},
     "output_type": "execute_result"
    }
   ],
   "source": [],
   "metadata": {
    "collapsed": false
   }
  },
  {
   "cell_type": "code",
   "execution_count": null,
   "outputs": [],
   "source": [],
   "metadata": {
    "collapsed": false
   }
  },
  {
   "cell_type": "code",
   "execution_count": null,
   "outputs": [],
   "source": [],
   "metadata": {
    "collapsed": false
   }
  }
 ],
 "metadata": {
  "kernelspec": {
   "display_name": "Python 3",
   "language": "python",
   "name": "python3"
  },
  "language_info": {
   "codemirror_mode": {
    "name": "ipython",
    "version": 2
   },
   "file_extension": ".py",
   "mimetype": "text/x-python",
   "name": "python",
   "nbconvert_exporter": "python",
   "pygments_lexer": "ipython2",
   "version": "2.7.6"
  }
 },
 "nbformat": 4,
 "nbformat_minor": 0
}
